{
  "nbformat": 4,
  "nbformat_minor": 0,
  "metadata": {
    "kernelspec": {
      "display_name": "Python 3",
      "language": "python",
      "name": "python3"
    },
    "language_info": {
      "codemirror_mode": {
        "name": "ipython",
        "version": 3
      },
      "file_extension": ".py",
      "mimetype": "text/x-python",
      "name": "python",
      "nbconvert_exporter": "python",
      "pygments_lexer": "ipython3",
      "version": "3.7.3"
    },
    "colab": {
      "name": "Assignment 1 - CS246",
      "provenance": [],
      "collapsed_sections": [
        "eXQzA01OS_yQ"
      ],
      "machine_shape": "hm",
      "include_colab_link": true
    }
  },
  "cells": [
    {
      "cell_type": "markdown",
      "metadata": {
        "id": "view-in-github",
        "colab_type": "text"
      },
      "source": [
        "<a href=\"https://colab.research.google.com/github/nlavee/BashingTimer/blob/master/Assignment/Assignment_1_CS246.ipynb\" target=\"_parent\"><img src=\"https://colab.research.google.com/assets/colab-badge.svg\" alt=\"Open In Colab\"/></a>"
      ]
    },
    {
      "cell_type": "markdown",
      "metadata": {
        "id": "GTwDFnjHMk25"
      },
      "source": [
        "# CS246 - Assignment 1\n",
        "\n",
        "Vu nguyen\n",
        "\n",
        "lammanhvu@stanford.edu\n"
      ]
    },
    {
      "cell_type": "markdown",
      "metadata": {
        "id": "eXQzA01OS_yQ"
      },
      "source": [
        "### Setup"
      ]
    },
    {
      "cell_type": "code",
      "metadata": {
        "id": "dhzk3GE6S9RC",
        "colab": {
          "base_uri": "https://localhost:8080/"
        },
        "outputId": "10493889-ed84-49a7-ce7b-2c407ab6d9a6"
      },
      "source": [
        "!pip install pyspark\n",
        "!pip install -U -q PyDrive\n",
        "!apt install openjdk-8-jdk-headless -qq\n",
        "import os\n",
        "os.environ[\"JAVA_HOME\"] = \"/usr/lib/jvm/java-8-openjdk-amd64\""
      ],
      "execution_count": 1,
      "outputs": [
        {
          "output_type": "stream",
          "text": [
            "Collecting pyspark\n",
            "\u001b[?25l  Downloading https://files.pythonhosted.org/packages/45/b0/9d6860891ab14a39d4bddf80ba26ce51c2f9dc4805e5c6978ac0472c120a/pyspark-3.1.1.tar.gz (212.3MB)\n",
            "\u001b[K     |████████████████████████████████| 212.3MB 45kB/s \n",
            "\u001b[?25hCollecting py4j==0.10.9\n",
            "\u001b[?25l  Downloading https://files.pythonhosted.org/packages/9e/b6/6a4fb90cd235dc8e265a6a2067f2a2c99f0d91787f06aca4bcf7c23f3f80/py4j-0.10.9-py2.py3-none-any.whl (198kB)\n",
            "\u001b[K     |████████████████████████████████| 204kB 44.4MB/s \n",
            "\u001b[?25hBuilding wheels for collected packages: pyspark\n",
            "  Building wheel for pyspark (setup.py) ... \u001b[?25l\u001b[?25hdone\n",
            "  Created wheel for pyspark: filename=pyspark-3.1.1-py2.py3-none-any.whl size=212767604 sha256=a2095cb2b4b73d366009e7141584f1518967952aea10dfdd84615985afd921de\n",
            "  Stored in directory: /root/.cache/pip/wheels/0b/90/c0/01de724414ef122bd05f056541fb6a0ecf47c7ca655f8b3c0f\n",
            "Successfully built pyspark\n",
            "Installing collected packages: py4j, pyspark\n",
            "Successfully installed py4j-0.10.9 pyspark-3.1.1\n",
            "The following additional packages will be installed:\n",
            "  openjdk-8-jre-headless\n",
            "Suggested packages:\n",
            "  openjdk-8-demo openjdk-8-source libnss-mdns fonts-dejavu-extra\n",
            "  fonts-ipafont-gothic fonts-ipafont-mincho fonts-wqy-microhei\n",
            "  fonts-wqy-zenhei fonts-indic\n",
            "The following NEW packages will be installed:\n",
            "  openjdk-8-jdk-headless openjdk-8-jre-headless\n",
            "0 upgraded, 2 newly installed, 0 to remove and 30 not upgraded.\n",
            "Need to get 36.5 MB of archives.\n",
            "After this operation, 143 MB of additional disk space will be used.\n",
            "Selecting previously unselected package openjdk-8-jre-headless:amd64.\n",
            "(Reading database ... 160980 files and directories currently installed.)\n",
            "Preparing to unpack .../openjdk-8-jre-headless_8u282-b08-0ubuntu1~18.04_amd64.deb ...\n",
            "Unpacking openjdk-8-jre-headless:amd64 (8u282-b08-0ubuntu1~18.04) ...\n",
            "Selecting previously unselected package openjdk-8-jdk-headless:amd64.\n",
            "Preparing to unpack .../openjdk-8-jdk-headless_8u282-b08-0ubuntu1~18.04_amd64.deb ...\n",
            "Unpacking openjdk-8-jdk-headless:amd64 (8u282-b08-0ubuntu1~18.04) ...\n",
            "Setting up openjdk-8-jre-headless:amd64 (8u282-b08-0ubuntu1~18.04) ...\n",
            "update-alternatives: using /usr/lib/jvm/java-8-openjdk-amd64/jre/bin/orbd to provide /usr/bin/orbd (orbd) in auto mode\n",
            "update-alternatives: using /usr/lib/jvm/java-8-openjdk-amd64/jre/bin/servertool to provide /usr/bin/servertool (servertool) in auto mode\n",
            "update-alternatives: using /usr/lib/jvm/java-8-openjdk-amd64/jre/bin/tnameserv to provide /usr/bin/tnameserv (tnameserv) in auto mode\n",
            "Setting up openjdk-8-jdk-headless:amd64 (8u282-b08-0ubuntu1~18.04) ...\n",
            "update-alternatives: using /usr/lib/jvm/java-8-openjdk-amd64/bin/idlj to provide /usr/bin/idlj (idlj) in auto mode\n",
            "update-alternatives: using /usr/lib/jvm/java-8-openjdk-amd64/bin/wsimport to provide /usr/bin/wsimport (wsimport) in auto mode\n",
            "update-alternatives: using /usr/lib/jvm/java-8-openjdk-amd64/bin/jsadebugd to provide /usr/bin/jsadebugd (jsadebugd) in auto mode\n",
            "update-alternatives: using /usr/lib/jvm/java-8-openjdk-amd64/bin/native2ascii to provide /usr/bin/native2ascii (native2ascii) in auto mode\n",
            "update-alternatives: using /usr/lib/jvm/java-8-openjdk-amd64/bin/javah to provide /usr/bin/javah (javah) in auto mode\n",
            "update-alternatives: using /usr/lib/jvm/java-8-openjdk-amd64/bin/hsdb to provide /usr/bin/hsdb (hsdb) in auto mode\n",
            "update-alternatives: using /usr/lib/jvm/java-8-openjdk-amd64/bin/clhsdb to provide /usr/bin/clhsdb (clhsdb) in auto mode\n",
            "update-alternatives: using /usr/lib/jvm/java-8-openjdk-amd64/bin/xjc to provide /usr/bin/xjc (xjc) in auto mode\n",
            "update-alternatives: using /usr/lib/jvm/java-8-openjdk-amd64/bin/schemagen to provide /usr/bin/schemagen (schemagen) in auto mode\n",
            "update-alternatives: using /usr/lib/jvm/java-8-openjdk-amd64/bin/extcheck to provide /usr/bin/extcheck (extcheck) in auto mode\n",
            "update-alternatives: using /usr/lib/jvm/java-8-openjdk-amd64/bin/jhat to provide /usr/bin/jhat (jhat) in auto mode\n",
            "update-alternatives: using /usr/lib/jvm/java-8-openjdk-amd64/bin/wsgen to provide /usr/bin/wsgen (wsgen) in auto mode\n"
          ],
          "name": "stdout"
        }
      ]
    },
    {
      "cell_type": "code",
      "metadata": {
        "id": "xgQaRx6rSaf9"
      },
      "source": [
        "# Let's import the libraries we will need\n",
        "import pandas as pd\n",
        "import numpy as np\n",
        "import matplotlib.pyplot as plt\n",
        "%matplotlib inline\n",
        "\n",
        "import pyspark\n",
        "from pyspark.sql import *\n",
        "from pyspark.sql.functions import *\n",
        "from pyspark import SparkContext, SparkConf"
      ],
      "execution_count": 2,
      "outputs": []
    },
    {
      "cell_type": "markdown",
      "metadata": {
        "id": "uUD5XpD_SagA"
      },
      "source": [
        "Let's initialize the Spark context.\n"
      ]
    },
    {
      "cell_type": "code",
      "metadata": {
        "id": "7ft3VivrSagB"
      },
      "source": [
        "# create the session\n",
        "conf = SparkConf().set(\"spark.ui.port\", \"4050\")\n",
        "\n",
        "# create the context\n",
        "sc = pyspark.SparkContext(conf=conf)\n",
        "spark = SparkSession.builder.getOrCreate()"
      ],
      "execution_count": 3,
      "outputs": []
    },
    {
      "cell_type": "markdown",
      "metadata": {
        "id": "-n20ixkgSagD"
      },
      "source": [
        "You can easily check the current version and get the link of the web interface. In the Spark UI, you can monitor the progress of your job and debug the performance bottlenecks (if your Colab is running with a **local runtime**)."
      ]
    },
    {
      "cell_type": "code",
      "metadata": {
        "id": "Fl4RHbqFSagE",
        "colab": {
          "base_uri": "https://localhost:8080/",
          "height": 0
        },
        "outputId": "224da03f-dee1-465f-b3b2-820ab69f1f21"
      },
      "source": [
        "spark"
      ],
      "execution_count": 4,
      "outputs": [
        {
          "output_type": "execute_result",
          "data": {
            "text/html": [
              "\n",
              "            <div>\n",
              "                <p><b>SparkSession - in-memory</b></p>\n",
              "                \n",
              "        <div>\n",
              "            <p><b>SparkContext</b></p>\n",
              "\n",
              "            <p><a href=\"http://614af6018b85:4050\">Spark UI</a></p>\n",
              "\n",
              "            <dl>\n",
              "              <dt>Version</dt>\n",
              "                <dd><code>v3.1.1</code></dd>\n",
              "              <dt>Master</dt>\n",
              "                <dd><code>local[*]</code></dd>\n",
              "              <dt>AppName</dt>\n",
              "                <dd><code>pyspark-shell</code></dd>\n",
              "            </dl>\n",
              "        </div>\n",
              "        \n",
              "            </div>\n",
              "        "
            ],
            "text/plain": [
              "<pyspark.sql.session.SparkSession at 0x7f13db0fa510>"
            ]
          },
          "metadata": {
            "tags": []
          },
          "execution_count": 4
        }
      ]
    },
    {
      "cell_type": "markdown",
      "metadata": {
        "id": "xlw1Mgx0T9-l"
      },
      "source": [
        "If you are running this Colab on the Google hosted runtime, the cell below will create a *ngrok* tunnel which will allow you to still check the Spark UI."
      ]
    },
    {
      "cell_type": "code",
      "metadata": {
        "id": "cYYlUTWYQMjb",
        "colab": {
          "base_uri": "https://localhost:8080/"
        },
        "outputId": "3e918d15-206a-4125-8400-f45eb2ff1bb2"
      },
      "source": [
        "!wget https://bin.equinox.io/c/4VmDzA7iaHb/ngrok-stable-linux-amd64.zip\n",
        "!unzip ngrok-stable-linux-amd64.zip\n",
        "get_ipython().system_raw('./ngrok http 4050 &')\n",
        "!curl -s http://localhost:4040/api/tunnels | python3 -c \\\n",
        "    \"import sys, json; print(json.load(sys.stdin)['tunnels'][0]['public_url'])\""
      ],
      "execution_count": 5,
      "outputs": [
        {
          "output_type": "stream",
          "text": [
            "--2021-04-08 01:01:11--  https://bin.equinox.io/c/4VmDzA7iaHb/ngrok-stable-linux-amd64.zip\n",
            "Resolving bin.equinox.io (bin.equinox.io)... 3.222.61.237, 52.20.200.43, 3.225.89.236, ...\n",
            "Connecting to bin.equinox.io (bin.equinox.io)|3.222.61.237|:443... connected.\n",
            "HTTP request sent, awaiting response... 200 OK\n",
            "Length: 14746350 (14M) [application/octet-stream]\n",
            "Saving to: ‘ngrok-stable-linux-amd64.zip’\n",
            "\n",
            "ngrok-stable-linux- 100%[===================>]  14.06M  65.1MB/s    in 0.2s    \n",
            "\n",
            "2021-04-08 01:01:12 (65.1 MB/s) - ‘ngrok-stable-linux-amd64.zip’ saved [14746350/14746350]\n",
            "\n",
            "Archive:  ngrok-stable-linux-amd64.zip\n",
            "  inflating: ngrok                   \n",
            "Traceback (most recent call last):\n",
            "  File \"<string>\", line 1, in <module>\n",
            "IndexError: list index out of range\n"
          ],
          "name": "stdout"
        }
      ]
    },
    {
      "cell_type": "markdown",
      "metadata": {
        "id": "qWFuh7sj2k9b"
      },
      "source": [
        "**Note**: Assuming that data files are uploaded and present already."
      ]
    },
    {
      "cell_type": "markdown",
      "metadata": {
        "id": "N2YFLXL02Xe0"
      },
      "source": [
        "## 1. Spark\n",
        "\n",
        "Data: *soc-LiveJournal1Adj.txt*"
      ]
    },
    {
      "cell_type": "code",
      "metadata": {
        "colab": {
          "base_uri": "https://localhost:8080/"
        },
        "id": "FsE_lZqr2Zqd",
        "outputId": "cae8b331-78fd-4879-e91c-cd366fc01f11"
      },
      "source": [
        "#@title Read and glance at first 5 rows\n",
        "live_journal_raw = spark.read.text('soc-LiveJournal1Adj.txt')\n",
        "live_journal_raw.take(5)"
      ],
      "execution_count": 6,
      "outputs": [
        {
          "output_type": "execute_result",
          "data": {
            "text/plain": [
              "[Row(value='0\\t1,2,3,4,5,6,7,8,9,10,11,12,13,14,15,16,17,18,19,20,21,22,23,24,25,26,27,28,29,30,31,32,33,34,35,36,37,38,39,40,41,42,43,44,45,46,47,48,49,50,51,52,53,54,55,56,57,58,59,60,61,62,63,64,65,66,67,68,69,70,71,72,73,74,75,76,77,78,79,80,81,82,83,84,85,86,87,88,89,90,91,92,93,94'),\n",
              " Row(value='1\\t0,5,20,135,2409,8715,8932,10623,12347,12846,13840,13845,14005,20075,21556,22939,23520,28193,29724,29791,29826,30691,31232,31435,32317,32489,34394,35589,35605,35606,35613,35633,35648,35678,38737,43447,44846,44887,49226,49985,623,629,4999,6156,13912,14248,15190,17636,19217,20074,27536,29481,29726,29767,30257,33060,34250,34280,34392,34406,34418,34420,34439,34450,34651,45054,49592'),\n",
              " Row(value='2\\t0,117,135,1220,2755,12453,24539,24714,41456,45046,49927,6893,13795,16659,32828,41878'),\n",
              " Row(value='3\\t0,12,41,55,1532,12636,13185,27552,38737'),\n",
              " Row(value='4\\t0,8,14,15,18,27,72,80,15326,19068,19079,24596,42697,46126,74,77,33269,38792,38822')]"
            ]
          },
          "metadata": {
            "tags": []
          },
          "execution_count": 6
        }
      ]
    },
    {
      "cell_type": "code",
      "metadata": {
        "colab": {
          "base_uri": "https://localhost:8080/"
        },
        "id": "hBia1XqV3Jt9",
        "outputId": "2e24e9bc-7087-4b5f-f845-a1f2cde921c4"
      },
      "source": [
        "# Dealing in int since it might be simpler?\n",
        "def turn_to_int_list(friends):\n",
        "  if len(friends) == 0:\n",
        "    return []\n",
        "  else:\n",
        "    return [int(i) for i in friends.split(\",\")]\n",
        "\n",
        "user_friends_map = live_journal_raw.rdd.map(lambda user: \n",
        "                                            (int(user.value.split(\"\\t\")[0]), \n",
        "                                             turn_to_int_list(user.value.split(\"\\t\")[1])))\n",
        "user_friends_map.take(3)"
      ],
      "execution_count": 7,
      "outputs": [
        {
          "output_type": "execute_result",
          "data": {
            "text/plain": [
              "[(0,\n",
              "  [1,\n",
              "   2,\n",
              "   3,\n",
              "   4,\n",
              "   5,\n",
              "   6,\n",
              "   7,\n",
              "   8,\n",
              "   9,\n",
              "   10,\n",
              "   11,\n",
              "   12,\n",
              "   13,\n",
              "   14,\n",
              "   15,\n",
              "   16,\n",
              "   17,\n",
              "   18,\n",
              "   19,\n",
              "   20,\n",
              "   21,\n",
              "   22,\n",
              "   23,\n",
              "   24,\n",
              "   25,\n",
              "   26,\n",
              "   27,\n",
              "   28,\n",
              "   29,\n",
              "   30,\n",
              "   31,\n",
              "   32,\n",
              "   33,\n",
              "   34,\n",
              "   35,\n",
              "   36,\n",
              "   37,\n",
              "   38,\n",
              "   39,\n",
              "   40,\n",
              "   41,\n",
              "   42,\n",
              "   43,\n",
              "   44,\n",
              "   45,\n",
              "   46,\n",
              "   47,\n",
              "   48,\n",
              "   49,\n",
              "   50,\n",
              "   51,\n",
              "   52,\n",
              "   53,\n",
              "   54,\n",
              "   55,\n",
              "   56,\n",
              "   57,\n",
              "   58,\n",
              "   59,\n",
              "   60,\n",
              "   61,\n",
              "   62,\n",
              "   63,\n",
              "   64,\n",
              "   65,\n",
              "   66,\n",
              "   67,\n",
              "   68,\n",
              "   69,\n",
              "   70,\n",
              "   71,\n",
              "   72,\n",
              "   73,\n",
              "   74,\n",
              "   75,\n",
              "   76,\n",
              "   77,\n",
              "   78,\n",
              "   79,\n",
              "   80,\n",
              "   81,\n",
              "   82,\n",
              "   83,\n",
              "   84,\n",
              "   85,\n",
              "   86,\n",
              "   87,\n",
              "   88,\n",
              "   89,\n",
              "   90,\n",
              "   91,\n",
              "   92,\n",
              "   93,\n",
              "   94]),\n",
              " (1,\n",
              "  [0,\n",
              "   5,\n",
              "   20,\n",
              "   135,\n",
              "   2409,\n",
              "   8715,\n",
              "   8932,\n",
              "   10623,\n",
              "   12347,\n",
              "   12846,\n",
              "   13840,\n",
              "   13845,\n",
              "   14005,\n",
              "   20075,\n",
              "   21556,\n",
              "   22939,\n",
              "   23520,\n",
              "   28193,\n",
              "   29724,\n",
              "   29791,\n",
              "   29826,\n",
              "   30691,\n",
              "   31232,\n",
              "   31435,\n",
              "   32317,\n",
              "   32489,\n",
              "   34394,\n",
              "   35589,\n",
              "   35605,\n",
              "   35606,\n",
              "   35613,\n",
              "   35633,\n",
              "   35648,\n",
              "   35678,\n",
              "   38737,\n",
              "   43447,\n",
              "   44846,\n",
              "   44887,\n",
              "   49226,\n",
              "   49985,\n",
              "   623,\n",
              "   629,\n",
              "   4999,\n",
              "   6156,\n",
              "   13912,\n",
              "   14248,\n",
              "   15190,\n",
              "   17636,\n",
              "   19217,\n",
              "   20074,\n",
              "   27536,\n",
              "   29481,\n",
              "   29726,\n",
              "   29767,\n",
              "   30257,\n",
              "   33060,\n",
              "   34250,\n",
              "   34280,\n",
              "   34392,\n",
              "   34406,\n",
              "   34418,\n",
              "   34420,\n",
              "   34439,\n",
              "   34450,\n",
              "   34651,\n",
              "   45054,\n",
              "   49592]),\n",
              " (2,\n",
              "  [0,\n",
              "   117,\n",
              "   135,\n",
              "   1220,\n",
              "   2755,\n",
              "   12453,\n",
              "   24539,\n",
              "   24714,\n",
              "   41456,\n",
              "   45046,\n",
              "   49927,\n",
              "   6893,\n",
              "   13795,\n",
              "   16659,\n",
              "   32828,\n",
              "   41878])]"
            ]
          },
          "metadata": {
            "tags": []
          },
          "execution_count": 7
        }
      ]
    },
    {
      "cell_type": "code",
      "metadata": {
        "colab": {
          "base_uri": "https://localhost:8080/"
        },
        "id": "drUro8hL9xCk",
        "outputId": "c4cdc9f5-b5af-474a-ec9a-8dd47ef9d995"
      },
      "source": [
        "def get_all_potential_friends(friends):\n",
        "  friend_pairs = []\n",
        "  for friend_1 in friends:\n",
        "    for friend_2 in friends:\n",
        "      if friend_1 != friend_2:\n",
        "        if friend_1 < friend_2:\n",
        "          friend_pairs.append((friend_1, friend_2))\n",
        "        else:\n",
        "          friend_pairs.append((friend_2, friend_1))\n",
        "  return friend_pairs\n",
        "\n",
        "def get_all_non_potential_friends(existing_1, existing_list):\n",
        "  non_potential_friends_pair = []\n",
        "  for friend in existing_list:\n",
        "    non_potential_friends_pair.append((existing_1, friend))\n",
        "  return non_potential_friends_pair\n",
        "\n",
        "# Get all the potential friends (this could include people who are already friends)\n",
        "potential_friends = user_friends_map.flatMap(lambda x: get_all_potential_friends(x[1]))\n",
        "# Get all the people who are already friends.\n",
        "non_potential_friends = user_friends_map.flatMap(lambda x: get_all_non_potential_friends(x[0], x[1]))\n",
        "# Remove those who are already friends from the list of people who could be friends.\n",
        "true_potential_friends = potential_friends.subtract(non_potential_friends)\n",
        "\n",
        "true_potential_friends.take(2)"
      ],
      "execution_count": 8,
      "outputs": [
        {
          "output_type": "execute_result",
          "data": {
            "text/plain": [
              "[(1864, 6892), (1864, 6892)]"
            ]
          },
          "metadata": {
            "tags": []
          },
          "execution_count": 8
        }
      ]
    },
    {
      "cell_type": "code",
      "metadata": {
        "colab": {
          "base_uri": "https://localhost:8080/"
        },
        "id": "6ZjXOaeYUfTF",
        "outputId": "90440411-c1db-44f2-8507-daf6ce855ad7"
      },
      "source": [
        "mututal_occurence_count = true_potential_friends.map(lambda x: (x, 1))\n",
        "mututal_occurence_count.take(3)"
      ],
      "execution_count": 9,
      "outputs": [
        {
          "output_type": "execute_result",
          "data": {
            "text/plain": [
              "[((15, 47), 1), ((15, 47), 1), ((12347, 13845), 1)]"
            ]
          },
          "metadata": {
            "tags": []
          },
          "execution_count": 9
        }
      ]
    },
    {
      "cell_type": "code",
      "metadata": {
        "id": "7uPd3xrh884O"
      },
      "source": [
        "# Count the number of mututal occurence\n",
        "friend_pairs = mututal_occurence_count.reduceByKey(lambda a,b: a + b).cache()"
      ],
      "execution_count": 10,
      "outputs": []
    },
    {
      "cell_type": "code",
      "metadata": {
        "colab": {
          "base_uri": "https://localhost:8080/"
        },
        "id": "Yr3-GZrxAIkG",
        "outputId": "370ba3c7-c3dc-40d9-e9bb-50750f4c185c"
      },
      "source": [
        "friend_pairs.take(9)"
      ],
      "execution_count": 11,
      "outputs": [
        {
          "output_type": "execute_result",
          "data": {
            "text/plain": [
              "[((10009, 37153), 4),\n",
              " ((1064, 33346), 2),\n",
              " ((44833, 48525), 2),\n",
              " ((1918, 3436), 2),\n",
              " ((626, 934), 2),\n",
              " ((21760, 24568), 2),\n",
              " ((22330, 22332), 2),\n",
              " ((7086, 32858), 2),\n",
              " ((9472, 39098), 2)]"
            ]
          },
          "metadata": {
            "tags": []
          },
          "execution_count": 11
        }
      ]
    },
    {
      "cell_type": "code",
      "metadata": {
        "id": "VsNtf6jQA0KI",
        "colab": {
          "base_uri": "https://localhost:8080/"
        },
        "outputId": "3b01fd33-cd93-49fc-c390-5e5ce1fa9c23"
      },
      "source": [
        "def get_top_recs(user_id):\n",
        "  # Filter specifically for interested users.\n",
        "  interested_user_pairs = friend_pairs.filter(lambda x: x[0][0] == user_id or x[0][1] == user_id)\n",
        "  user_id_nominations = interested_user_pairs.collect()\n",
        "  # Sort the list to get what we want.\n",
        "  user_id_nominations.sort(key = lambda x: (x[1], -x[0][1]), reverse=True)\n",
        "  return user_id_nominations[0:10]\n",
        "\n",
        "# Sanity Check\n",
        "user_id = 11\n",
        "recs = get_top_recs(user_id)\n",
        "print(recs)"
      ],
      "execution_count": 12,
      "outputs": [
        {
          "output_type": "stream",
          "text": [
            "[((11, 27552), 8), ((11, 7785), 6), ((11, 27573), 6), ((11, 27574), 6), ((11, 27589), 6), ((11, 27590), 6), ((11, 27600), 6), ((11, 27617), 6), ((11, 27620), 6), ((11, 27667), 6)]\n"
          ],
          "name": "stdout"
        }
      ]
    },
    {
      "cell_type": "code",
      "metadata": {
        "colab": {
          "base_uri": "https://localhost:8080/"
        },
        "id": "QUxJboUhC0EJ",
        "outputId": "63214bdd-fded-47cd-eca4-289b9b3dc601"
      },
      "source": [
        "user_ids = [924, 8941, 8942, 9019, 9020, 9021, 9022, 9990, 9992, 9993]\n",
        "\n",
        "for user in user_ids:\n",
        "  print(\"User: \", user)\n",
        "  recs = get_top_recs(user)\n",
        "  print_recs = ''\n",
        "  for rec in recs:\n",
        "    print_recs += (\" \" + (str(rec[0][1]) if rec[0][1] != user else str(rec[0][0])))\n",
        "  print(user, \"\\t\", print_recs)\n",
        "  print(\"-----\")\n"
      ],
      "execution_count": 17,
      "outputs": [
        {
          "output_type": "stream",
          "text": [
            "User:  924\n",
            "924 \t  439 2409 6995 11860 15416 43748 45881\n",
            "-----\n",
            "User:  8941\n",
            "8941 \t  8943 8944 8940\n",
            "-----\n",
            "User:  8942\n",
            "8942 \t  8939 8940 8943 8944\n",
            "-----\n",
            "User:  9019\n",
            "9019 \t  9022 317 9023\n",
            "-----\n",
            "User:  9020\n",
            "9020 \t  9021 9016 9017 9022 317 9023\n",
            "-----\n",
            "User:  9021\n",
            "9021 \t  9020 9017 9016 9022 317 9023\n",
            "-----\n",
            "User:  9022\n",
            "9022 \t  9020 9019 9021 9016 317 9017 9023\n",
            "-----\n",
            "User:  9990\n",
            "9990 \t  13134 13478 13877 34299 34485 34642 37941\n",
            "-----\n",
            "User:  9992\n",
            "9992 \t  9989 9987 35667 9991\n",
            "-----\n",
            "User:  9993\n",
            "9993 \t  9991 13134 13478 13877 34299 34485 34642 37941\n",
            "-----\n"
          ],
          "name": "stdout"
        }
      ]
    }
  ]
}